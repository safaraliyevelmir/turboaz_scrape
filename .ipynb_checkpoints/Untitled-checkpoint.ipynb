{
 "cells": [
  {
   "cell_type": "code",
   "execution_count": 2,
   "id": "931b28ef",
   "metadata": {},
   "outputs": [],
   "source": [
    "def hash_function(string, table_size):\n",
    "    # Örnek bir hash fonksiyonu\n",
    "    hash_value = 0\n",
    "    for character in string:\n",
    "        hash_value = (hash_value + ord(character)) * 31\n",
    "    return hash_value % table_size"
   ]
  },
  {
   "cell_type": "code",
   "execution_count": null,
   "id": "49e8bb77",
   "metadata": {},
   "outputs": [],
   "source": [
    "has"
   ]
  }
 ],
 "metadata": {
  "kernelspec": {
   "display_name": "Python 3 (ipykernel)",
   "language": "python",
   "name": "python3"
  },
  "language_info": {
   "codemirror_mode": {
    "name": "ipython",
    "version": 3
   },
   "file_extension": ".py",
   "mimetype": "text/x-python",
   "name": "python",
   "nbconvert_exporter": "python",
   "pygments_lexer": "ipython3",
   "version": "3.8.10"
  }
 },
 "nbformat": 4,
 "nbformat_minor": 5
}
